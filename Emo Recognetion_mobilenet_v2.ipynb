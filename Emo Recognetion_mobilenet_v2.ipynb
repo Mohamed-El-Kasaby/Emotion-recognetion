{
 "cells": [
  {
   "cell_type": "markdown",
   "metadata": {
    "id": "kjZIbOf2BZLx"
   },
   "source": [
    "# Imports"
   ]
  },
  {
   "cell_type": "code",
   "execution_count": 43,
   "metadata": {
    "colab": {
     "base_uri": "https://localhost:8080/"
    },
    "id": "gdjYCSwB_G9I",
    "outputId": "f4c27c8e-b81f-409b-f7fa-498e214348c9"
   },
   "outputs": [
    {
     "name": "stdout",
     "output_type": "stream",
     "text": [
      "Drive already mounted at /content/gdrive; to attempt to forcibly remount, call drive.mount(\"/content/gdrive\", force_remount=True).\n"
     ]
    }
   ],
   "source": [
    "import numpy as np\n",
    "import pandas as pd\n",
    "import matplotlib.pyplot as plt\n",
    "import seaborn as sns\n",
    "from sklearn.metrics import ConfusionMatrixDisplay,confusion_matrix,f1_score\n",
    "\n",
    "import torch\n",
    "import torch.nn as nn\n",
    "import torch.nn.functional as F\n",
    "import torch.optim as optim\n",
    "from tqdm.notebook import tqdm\n",
    "from torchvision import datasets, transforms ,models\n",
    "from torch.cuda.amp import GradScaler ,autocast\n",
    "from IPython import display\n",
    "import gc \n",
    "\n",
    "import os\n",
    "import re\n",
    "from shutil import copyfile\n",
    "import copy\n",
    "\n",
    "from __future__ import print_function\n",
    "from PIL import Image\n",
    "from tqdm import tqdm\n",
    "\n",
    "from google.colab import drive\n",
    "drive.mount('/content/gdrive') #MyDeive\n",
    "\n",
    "# import torchinfo \n",
    "torch.cuda.empty_cache()\n",
    "torch.manual_seed(0)\n",
    "np.random.seed(0)\n",
    "\n",
    "device = torch.device(\"cuda:0\" if torch.cuda.is_available() else \"cpu\")\n",
    "#torch.cuda.get_device_name(0)\n",
    "#device"
   ]
  },
  {
   "cell_type": "markdown",
   "metadata": {
    "id": "IizzY7iMBkPb"
   },
   "source": [
    "# Download Kaggle Data set "
   ]
  },
  {
   "cell_type": "code",
   "execution_count": 2,
   "metadata": {
    "colab": {
     "base_uri": "https://localhost:8080/"
    },
    "id": "NX9tjetK7IhT",
    "outputId": "439a7636-aefd-4676-c054-2c479fbb5c82"
   },
   "outputs": [
    {
     "name": "stdout",
     "output_type": "stream",
     "text": [
      "Requirement already satisfied: kaggle in /usr/local/lib/python3.7/dist-packages (1.5.12)\n",
      "Requirement already satisfied: certifi in /usr/local/lib/python3.7/dist-packages (from kaggle) (2021.10.8)\n",
      "Requirement already satisfied: urllib3 in /usr/local/lib/python3.7/dist-packages (from kaggle) (1.24.3)\n",
      "Requirement already satisfied: requests in /usr/local/lib/python3.7/dist-packages (from kaggle) (2.23.0)\n",
      "Requirement already satisfied: tqdm in /usr/local/lib/python3.7/dist-packages (from kaggle) (4.62.3)\n",
      "Requirement already satisfied: python-slugify in /usr/local/lib/python3.7/dist-packages (from kaggle) (5.0.2)\n",
      "Requirement already satisfied: six>=1.10 in /usr/local/lib/python3.7/dist-packages (from kaggle) (1.15.0)\n",
      "Requirement already satisfied: python-dateutil in /usr/local/lib/python3.7/dist-packages (from kaggle) (2.8.2)\n",
      "Requirement already satisfied: text-unidecode>=1.3 in /usr/local/lib/python3.7/dist-packages (from python-slugify->kaggle) (1.3)\n",
      "Requirement already satisfied: idna<3,>=2.5 in /usr/local/lib/python3.7/dist-packages (from requests->kaggle) (2.10)\n",
      "Requirement already satisfied: chardet<4,>=3.0.2 in /usr/local/lib/python3.7/dist-packages (from requests->kaggle) (3.0.4)\n",
      "Warning: Looks like you're using an outdated API Version, please consider updating (server 1.5.12 / client 1.5.4)\n",
      "Downloading example_submission.csv to /content\n",
      "  0% 0.00/7.01k [00:00<?, ?B/s]\n",
      "100% 7.01k/7.01k [00:00<00:00, 11.9MB/s]\n",
      "Downloading icml_face_data.csv.zip to /content\n",
      " 84% 81.0M/96.6M [00:01<00:00, 43.0MB/s]\n",
      "100% 96.6M/96.6M [00:01<00:00, 55.4MB/s]\n",
      "Downloading test.csv.zip to /content\n",
      " 67% 13.0M/19.3M [00:00<00:00, 29.4MB/s]\n",
      "100% 19.3M/19.3M [00:00<00:00, 35.7MB/s]\n",
      "Downloading fer2013.tar.gz to /content\n",
      " 90% 83.0M/92.0M [00:02<00:00, 43.8MB/s]\n",
      "100% 92.0M/92.0M [00:02<00:00, 45.3MB/s]\n",
      "Downloading train.csv.zip to /content\n",
      " 94% 73.0M/77.3M [00:01<00:00, 66.5MB/s]\n",
      "100% 77.3M/77.3M [00:01<00:00, 75.9MB/s]\n"
     ]
    }
   ],
   "source": [
    "! pip install kaggle\n",
    "! mkdir ~/.kaggle\n",
    "! cp kaggle.json ~/.kaggle/\n",
    "! chmod 600 ~/.kaggle/kaggle.json\n",
    "! kaggle competitions download challenges-in-representation-learning-facial-expression-recognition-challenge\n",
    "!unzip -qq \"/content/test.csv.zip\" -d \"/content/\"\n",
    "!unzip -qq \"/content/train.csv.zip\" -d \"/content/\""
   ]
  },
  {
   "cell_type": "markdown",
   "metadata": {
    "id": "ioZw65jIeOi3"
   },
   "source": [
    "**If u want to load model parameters from Github**"
   ]
  },
  {
   "cell_type": "code",
   "execution_count": 35,
   "metadata": {
    "id": "wI-sOfXLPVB8"
   },
   "outputs": [],
   "source": [
    "# !wget \"https://github.com/Mohamed-El-Kasaby/CV/raw/main/Computer%20Vesion%20on%20colab/Best_model_on_valdtion.zip\"\n",
    "# !unzip \"/content/Best_model_on_valdtion.zip\""
   ]
  },
  {
   "cell_type": "markdown",
   "metadata": {
    "id": "05f2eJ0HCMXz"
   },
   "source": [
    "# Generate Data folders and Save images"
   ]
  },
  {
   "cell_type": "code",
   "execution_count": 24,
   "metadata": {
    "id": "7GB71rzS7Ipa"
   },
   "outputs": [],
   "source": [
    "class Generate_data():\n",
    "    def __init__(self, datapath):\n",
    "        \"\"\"\n",
    "        Generate_data class\n",
    "        Two methods to be used\n",
    "        1-split_test\n",
    "        2-save_images\n",
    "        [Note] that you have to split the public and private from fer2013 file\n",
    "        \"\"\"\n",
    "        self.data_path = datapath\n",
    "\n",
    "    def split_test(self, test_filename = 'finaltest', val_filename= 'val'):\n",
    "        \"\"\"\n",
    "        Helper function to split the validation and test data from general test file as it contains (Public test, Private test)\n",
    "            params:-\n",
    "                data_path = path to the folder that contains the test data file\n",
    "        \"\"\"\n",
    "        csv_path = self.data_path +\"/\"+ 'test.csv'\n",
    "        train_csv = self.data_path +\"/\"+ 'train.csv'\n",
    "        test = pd.read_csv(csv_path)\n",
    "        train = pd.read_csv(train_csv)\n",
    "        validation_data = pd.DataFrame(train.iloc[:3589,:])\n",
    "        train  = pd.DataFrame(train.iloc[3589:,:])\n",
    "        test_data = pd.DataFrame(test.iloc[3589:,:])\n",
    "        # validation_data.columns = ['emotion', \"pixels\"]\n",
    "        test_data.to_csv(self.data_path+\"/\"+test_filename+\".csv\")\n",
    "        validation_data.to_csv(self.data_path+\"/\"+val_filename+\".csv\")\n",
    "        train.to_csv(self.data_path+\"/\"+\"train\"+\".csv\")\n",
    "        print(\"Done splitting the test file into validation & final test file\")\n",
    "\n",
    "    def str_to_image(self, str_img = ' '):\n",
    "        '''\n",
    "        Convert string pixels from the csv file into image object\n",
    "            params:- take an image string\n",
    "            return :- return PIL image object\n",
    "        '''\n",
    "        imgarray_str = str_img.split(' ')\n",
    "        imgarray = np.repeat(np.asarray(imgarray_str,dtype=np.uint8).reshape(48,48)[...,np.newaxis],3,-1)\n",
    "        return Image.fromarray(imgarray)\n",
    "\n",
    "    def save_images(self, datatype='train'):\n",
    "        '''\n",
    "        save_images is a function responsible for saving images from data files e.g(train, test) in a desired folder\n",
    "            params:-\n",
    "            datatype= str e.g (train, val, finaltest)\n",
    "        '''\n",
    "        datatype = datatype\n",
    "        foldername= self.data_path+\"/\"+datatype\n",
    "        csvfile_path= self.data_path+\"/\"+datatype+'.csv'\n",
    "        if not os.path.exists(foldername):\n",
    "            os.mkdir(foldername)\n",
    "\n",
    "        data = pd.read_csv(csvfile_path)\n",
    "        images = data['pixels'] #dataframe to series pandas\n",
    "        numberofimages = images.shape[0]\n",
    "        mapper ={0 : \"Angry\", 1 : \"Disgust\", 2 : \"Fear\", 3 : \"Happy\",\n",
    "                 4 : \"Sad\", 5 : \"Surprise\", 6 : \"Neutral\"}\n",
    "        if  datatype =='train' or datatype == 'val' :\n",
    "          for i in mapper:\n",
    "            emo_folder = self.data_path+\"/\"+datatype+\"/\"+mapper[i]\n",
    "            if not os.path.exists(emo_folder):\n",
    "              os.mkdir(emo_folder)\n",
    "              \n",
    "          for index in tqdm(range(numberofimages)):\n",
    "              img = self.str_to_image(images[index])\n",
    "              img.save(os.path.join(foldername+\"/\"+mapper[data['emotion'][index]],'{}{}.jpg'.format(datatype,index)),'JPEG')\n",
    "          print('Done saving {} data'.format((foldername)))\n",
    "          # pass\n",
    "        elif datatype != 'train' or datatype != 'val' :\n",
    "          foldername= self.data_path+\"/\"+datatype\n",
    "          csvfile_path= self.data_path+\"/\"+datatype+'.csv'\n",
    "          if not os.path.exists(foldername):\n",
    "              os.mkdir(foldername)\n",
    "\n",
    "          data = pd.read_csv(csvfile_path)\n",
    "          images = data['pixels'] #dataframe to series pandas\n",
    "          numberofimages = images.shape[0]\n",
    "          for index in tqdm(range(numberofimages)):\n",
    "              img = self.str_to_image(images[index])\n",
    "              img.save(os.path.join(foldername,'{}{}.jpg'.format(datatype,index)),'JPEG')\n",
    "          print('Done saving {} data'.format((foldername)))\n"
   ]
  },
  {
   "cell_type": "code",
   "execution_count": 12,
   "metadata": {
    "colab": {
     "base_uri": "https://localhost:8080/"
    },
    "id": "tWEelLlY-BCz",
    "outputId": "2b52595c-c2e7-4076-a073-04efa86cc201"
   },
   "outputs": [
    {
     "name": "stdout",
     "output_type": "stream",
     "text": [
      "Done splitting the test file into validation & final test file\n"
     ]
    },
    {
     "name": "stderr",
     "output_type": "stream",
     "text": [
      "100%|██████████| 28709/28709 [00:24<00:00, 1159.14it/s]\n"
     ]
    },
    {
     "name": "stdout",
     "output_type": "stream",
     "text": [
      "Done saving /content/train data\n"
     ]
    },
    {
     "name": "stderr",
     "output_type": "stream",
     "text": [
      "100%|██████████| 3589/3589 [00:02<00:00, 1203.98it/s]\n"
     ]
    },
    {
     "name": "stdout",
     "output_type": "stream",
     "text": [
      "Done saving /content/finaltest data\n"
     ]
    },
    {
     "name": "stderr",
     "output_type": "stream",
     "text": [
      "100%|██████████| 3589/3589 [00:03<00:00, 1139.36it/s]"
     ]
    },
    {
     "name": "stdout",
     "output_type": "stream",
     "text": [
      "Done saving /content/val data\n"
     ]
    },
    {
     "name": "stderr",
     "output_type": "stream",
     "text": [
      "\n"
     ]
    }
   ],
   "source": [
    "generate_dataset = Generate_data('/content')\n",
    "generate_dataset.split_test()\n",
    "\n",
    "# val  = pd.read_csv(\"/content/val.csv\")\n",
    "# val.columns = ['emotion', \"pixels\"]\n",
    "# val.to_csv('val.csv')\n",
    "\n",
    "generate_dataset.save_images()\n",
    "generate_dataset.save_images('finaltest')\n",
    "generate_dataset.save_images('val')"
   ]
  },
  {
   "cell_type": "markdown",
   "metadata": {
    "id": "qowi6DylCldx"
   },
   "source": [
    "# Function to count number of parameters"
   ]
  },
  {
   "cell_type": "code",
   "execution_count": 13,
   "metadata": {
    "id": "T4ydcMs591ep"
   },
   "outputs": [],
   "source": [
    "def Model_Info(model,summary =False ):\n",
    "    prams=0\n",
    "    for p in list(model.parameters()):\n",
    "        prams += p.nelement()\n",
    "    print(f'model parameters: {np.round(prams/10**6,2)} M')\n",
    "    print(torchinfo.summary(model)) if summary else ''"
   ]
  },
  {
   "cell_type": "markdown",
   "metadata": {
    "id": "1g2jBjXFC2w6"
   },
   "source": [
    "# Function To Load Data"
   ]
  },
  {
   "cell_type": "code",
   "execution_count": 14,
   "metadata": {
    "id": "VpJziR197UGC"
   },
   "outputs": [],
   "source": [
    "def load_date(transformtions ,batch_size=32, shuffle=True,Set ='train',verbose = True):\n",
    "    PATH = '/content/'\n",
    "    data_dir = PATH + Set \n",
    "    dataset = datasets.ImageFolder(data_dir, transform=transformtions) \n",
    "    if verbose:\n",
    "        print(f'''Found {len(dataset.samples)} image for {len(dataset.classes)} classes: {\", \".join(dataset.classes)},\n",
    "Each class has label {\", \".join([f\"{k}: {v}\" for k,v in dataset.class_to_idx.items()])}.''')\n",
    "    #data.random_split\n",
    "    dataloader = torch.utils.data.DataLoader(dataset, batch_size=batch_size, shuffle=shuffle ,num_workers=2) \n",
    "    \n",
    "    return dataloader\n"
   ]
  },
  {
   "cell_type": "markdown",
   "metadata": {
    "id": "dk-zYczWC8IK"
   },
   "source": [
    "# Model Creation"
   ]
  },
  {
   "cell_type": "code",
   "execution_count": 15,
   "metadata": {
    "id": "fYqm4cyh7WFa"
   },
   "outputs": [],
   "source": [
    "def creat_Model(out_features , pretrained=True):\n",
    "    model= models.mobilenet_v2(pretrained=True)\n",
    "    model.classifier =  nn.Sequential(nn.Dropout(p=0.2, inplace=False),\n",
    "                                      nn.Linear(in_features=1280, out_features=out_features, bias=True),\n",
    "                                      nn.LogSoftmax(dim = 1))\n",
    "    return model"
   ]
  },
  {
   "cell_type": "markdown",
   "metadata": {
    "id": "8oyRK89oDfpc"
   },
   "source": [
    "# Mixed Functions"
   ]
  },
  {
   "cell_type": "code",
   "execution_count": 33,
   "metadata": {
    "id": "umxWPIq_7YYV"
   },
   "outputs": [],
   "source": [
    "def opt_Step(x,y,loss_criterion,passed_model):\n",
    "    # Compute the loss and accuracy\n",
    "    optimizer.zero_grad()\n",
    "    # scores\n",
    "    with autocast():\n",
    "        y_pred = passed_model(x)\n",
    "        loss = loss_criterion(y_pred, y)\n",
    "    \n",
    "    S, predicted = torch.max(y_pred, 1)\n",
    "    acc = (y == predicted).sum().float() /len(y)\n",
    "    del S\n",
    "    # one steps\n",
    "    scaler.scale(loss).backward()\n",
    "    scaler.step(optimizer)\n",
    "    scaler.update()\n",
    "    return loss.detach().item(),acc.detach().cpu().numpy()\n",
    "\n",
    "        \n",
    "#---------------------------------------------------------\n",
    "def save_best_model(best_metric,current_metric,name,epoch):\n",
    "    if current_metric > best_metric:\n",
    "        state = {\n",
    "                    'epoch': epoch,\n",
    "                    'state_dict': model.state_dict(),\n",
    "                    'optimizer': optimizer.state_dict(),\n",
    "                }\n",
    "        torch.save(state, name+'.pt')\n",
    "        best_metric = current_metric\n",
    "        print(f\"%s is Saved with metric :%.3f\" % (str(name).replace(\"_\",\" \"),best_metric ))\n",
    "    return best_metric\n",
    "################################################\n",
    "def load_the_model(check_point):\n",
    "  print(\"==> Lading the mmodel...\")\n",
    "  model.load_state_dict(check_point['state_dict'])\n",
    "  optimizer.load_state_dict(check_point['optimizer'])\n",
    "#---------------------------------------------------------\n",
    "def valdtion_score(loader,loss_criterion):\n",
    "    model.eval() \n",
    "    loss,acc = 0,0\n",
    "    steps=len(loader)\n",
    "    for (X_val ,y_val) in loader_val:\n",
    "        X_val ,y_val = X_val.to(device) ,y_val.to(device)\n",
    "        with autocast():\n",
    "            pred = model(X_val)\n",
    "            l = loss_criterion(pred, y_val)\n",
    "        loss += l.detach().cpu().item()\n",
    "        s ,pred = torch.max(pred, 1)\n",
    "        acc = acc+ (y_val == pred).sum().cpu().numpy()/len(y_val)\n",
    "        del s,l, X_val,y_val, pred\n",
    "    torch.cuda.empty_cache()\n",
    "    return  loss/steps,acc/steps\n",
    "#---------------------------------------------------------\n",
    "def model_data_montor(loader , passed_model ): \n",
    "    eval(\"passed_model\") #.eval()\n",
    "    y_df = pd.DataFrame(columns= [\"Y_True\",\"Y_pred\"])\n",
    "    for (x ,y) in loader: \n",
    "        y = y.cpu().numpy().reshape(-1)\n",
    "        pred = eval( f'{passed_model}(x.to(device)).detach().cpu().numpy()')\n",
    "        del x \n",
    "        torch.cuda.empty_cache()\n",
    "        pred = pred.argmax(1).reshape(-1)\n",
    "        y_df = y_df.append(pd.DataFrame(np.vstack((y,pred )).T, columns=y_df.columns), ignore_index=True)\n",
    "        del  pred , y \n",
    "    y_df[\"eq\"] = (y_df[\"Y_True\" ] == y_df[\"Y_pred\" ])\n",
    "    mapper ={0: 'Neutral', 1: 'Happiness', 2: 'Sadness', 3: 'Surprise', 4: 'Fear', 5: 'Disgust', 6: 'Anger',\n",
    "                7: 'Contempt'}\n",
    "    y_df[\"Y_True\" ] = y_df[\"Y_True\" ].map(mapper) \n",
    "    y_df[\"Y_pred\" ] = y_df[\"Y_pred\"].map(mapper) \n",
    "\n",
    "    g= y_df.groupby(['Y_True','eq'])\\\n",
    "            .agg('size').div(y_df.shape[0])\\\n",
    "            .sort_index( ascending=[True,False]).unstack()\n",
    "\n",
    "    plt.rc('font', **{'size'   : 13})\n",
    "    print(f'Accuracy : {g.sum(0).values[1]} ,Error:{g.sum(0).values[0]} ')\n",
    "    fig,ax=plt.subplots(1,2,figsize = (22,7))\n",
    "    ConfusionMatrixDisplay(confusion_matrix(y_df[\"Y_True\" ], y_df[\"Y_pred\" ] ,normalize ='true' )\n",
    "                          ,display_labels=list(mapper.values()) ).plot(ax=ax[0], xticks_rotation= 45)\n",
    "    ax[0].set_title(\"Confusion Matrix\")#,font ={'weight' : 'bold'}\n",
    "    ax[0].set_xlabel('Predictions Emotions')\n",
    "    ax[0].set_ylabel('Actual Emotions')\n",
    "    sns.heatmap(g,annot=True,ax=ax[1])\n",
    "    ax[1].tick_params(axis='y', rotation=0)\n",
    "    ax[1].set_xlabel('Predictions')\n",
    "    ax[1].set_ylabel('Emotions')\n",
    "    ax[1].set_title(\"Error / Accuracy for each Class\")\n",
    "    plt.show()\n",
    "    del g, fig,ax, y_df\n",
    "    torch.cuda.empty_cache()\n",
    "    return None\n",
    "#---------------------------------------------------------"
   ]
  },
  {
   "cell_type": "markdown",
   "metadata": {
    "id": "L3RzIUWHEjCZ"
   },
   "source": [
    "# Parameters"
   ]
  },
  {
   "cell_type": "code",
   "execution_count": 28,
   "metadata": {
    "id": "EEIzMaNE7YeH"
   },
   "outputs": [],
   "source": [
    "epoch =1\n",
    "batchsize= 64\n",
    "best_metric =0\n",
    "learning_rate = 5e-3\n",
    "lambda_l2 = 1e-6\n",
    "\n",
    "log_loss= np.empty((epoch,3))\n",
    "log_acc= np.empty((epoch,3))\n",
    "\n",
    "load_model = True"
   ]
  },
  {
   "cell_type": "markdown",
   "metadata": {
    "id": "60f9FFVtE7ew"
   },
   "source": [
    "# Preper Models"
   ]
  },
  {
   "cell_type": "code",
   "execution_count": 29,
   "metadata": {
    "colab": {
     "base_uri": "https://localhost:8080/"
    },
    "id": "bDXwnxrB7c9Z",
    "outputId": "3c6c9a16-2397-41fb-abd5-2f84123e8baf"
   },
   "outputs": [
    {
     "name": "stdout",
     "output_type": "stream",
     "text": [
      "Found 28709 image for 7 classes: Angry, Disgust, Fear, Happy, Neutral, Sad, Surprise,\n",
      "Each class has label Angry: 0, Disgust: 1, Fear: 2, Happy: 3, Neutral: 4, Sad: 5, Surprise: 6.\n",
      "Found 3589 image for 7 classes: Angry, Disgust, Fear, Happy, Neutral, Sad, Surprise,\n",
      "Each class has label Angry: 0, Disgust: 1, Fear: 2, Happy: 3, Neutral: 4, Sad: 5, Surprise: 6.\n"
     ]
    }
   ],
   "source": [
    "transform_trian = transforms.Compose([transforms.ToTensor()\n",
    "                                                           ])# TODO: compose transforms here\n",
    "transform_val= transforms.Compose([transforms.ToTensor()\n",
    "                                                            ])# TODO: compose transforms here\n",
    "loader_train =load_date(batch_size=batchsize, shuffle=True,transformtions = transform_trian,Set ='train',verbose = True)\n",
    "loader_val =load_date(batch_size=batchsize, shuffle=True,transformtions = transform_val,Set ='val',verbose = True)\n",
    "\n",
    "steps_per_ep =len(loader_train)"
   ]
  },
  {
   "cell_type": "code",
   "execution_count": 41,
   "metadata": {
    "colab": {
     "base_uri": "https://localhost:8080/"
    },
    "id": "eUS_IPhi7dEj",
    "outputId": "6140535d-d327-468c-8911-ea41fa89ccfb"
   },
   "outputs": [
    {
     "name": "stdout",
     "output_type": "stream",
     "text": [
      "==> Lading the mmodel...\n",
      "model parameters: 2.23 M\n"
     ]
    }
   ],
   "source": [
    "input_size  = (48, 48)   # images are 224* 224 pixels\n",
    "output_size = 7\n",
    "\n",
    "model =creat_Model(output_size , pretrained=True).to(device)       \n",
    "criterion = torch.nn.CrossEntropyLoss(  reduction=\"mean\")\n",
    "optimizer = torch.optim.Adamax(model.parameters(), lr=learning_rate,betas=(0.9, 0.999)) # built-in L2\n",
    "\n",
    "#Load weights from Google drive\n",
    "model_weights = \"Best_model_on_valdtion.pt\"\n",
    "my_model = \"/content/gdrive/MyDrive/\" + model_weights\n",
    "if load_model:\n",
    "  load_the_model(torch.load(my_model))\n",
    "  \n",
    "Model_Info(model,summary=False)\n"
   ]
  },
  {
   "cell_type": "code",
   "execution_count": 31,
   "metadata": {
    "colab": {
     "base_uri": "https://localhost:8080/"
    },
    "id": "jSj4jtq27hM7",
    "outputId": "e623dc12-0398-493e-b53f-795d2545f741"
   },
   "outputs": [
    {
     "name": "stdout",
     "output_type": "stream",
     "text": [
      "[EPOCH]: 1, [LOSS]: 0.710420, [ACC]: 0.739 \n",
      "[Val_LOSS]: 0.716963, [Val_ACC]: 0.737\n",
      "cp: cannot stat 'file': No such file or directory\n",
      "Best model on valdtion is Saved with metric :0.737\n"
     ]
    }
   ],
   "source": [
    "scaler = GradScaler()\n",
    "for t in range(1,epoch+1): \n",
    "    loss_ep ,acc_ep = 0,0\n",
    "    batch_indx =0\n",
    "    model.train()\n",
    "    for (X ,y) in tqdm(loader_train):\n",
    "        batch_indx +=1\n",
    "        X ,y = X.to(device) ,y.to(device) \n",
    "        loss ,acc = opt_Step(X,y,criterion,model)\n",
    "        loss_ep ,acc_ep =  loss_ep + (loss/steps_per_ep), acc_ep+ (acc/steps_per_ep)\n",
    "        X ,y =X.detach().cpu() ,y.detach().cpu()\n",
    "        del X, y,loss ,acc\n",
    "        gc.collect()\n",
    "        torch.cuda.empty_cache()\n",
    "        \n",
    "        \n",
    "    loss_val ,acc_val = valdtion_score(loader_val,criterion)\n",
    "    display.clear_output()\n",
    "    \n",
    "   # loss_ep ,acc_ep =loss_ep ,acc_ep\n",
    "    print(f\"[EPOCH]: %i, [LOSS]: %.6f, [ACC]: %.3f\" % (t, loss_ep, acc_ep),\n",
    "          \"\\n[Val_LOSS]: %.6f, [Val_ACC]: %.3f\" % ( loss_val, acc_val))\n",
    "    \n",
    "    best_metric= save_best_model(best_metric,acc_val,\"Best_model_on_valdtion\",t)\n",
    "    \n",
    "    log_loss[t-1,:]= np.array([[t,loss_ep,loss_val]])\n",
    "    log_acc[t-1,:]= np.array([[t,acc_ep,acc_val]])\n",
    "    torch.cuda.empty_cache()\n",
    "log_loss = pd.DataFrame(log_loss ,columns=['Epochs','loss_Training','loss_Valdtion'])\n",
    "log_acc = pd.DataFrame(log_acc ,columns=['Epochs','ACC_Training','ACC_Valdtion'])"
   ]
  },
  {
   "cell_type": "markdown",
   "metadata": {
    "id": "wYOT7KH8dfmL"
   },
   "source": [
    "**Save to Drive**"
   ]
  },
  {
   "cell_type": "code",
   "execution_count": 34,
   "metadata": {
    "id": "1BO3TTYBdcIo"
   },
   "outputs": [],
   "source": [
    "# it will be saved in \"/content/gdrive/MyDrive/Best_model_on_valdtion.pt\"\n",
    "!cp -r /content/Best_model_on_valdtion.pt \"/content/gdrive/MyDrive\""
   ]
  },
  {
   "cell_type": "code",
   "execution_count": 39,
   "metadata": {
    "colab": {
     "base_uri": "https://localhost:8080/",
     "height": 412
    },
    "id": "4ZchR9Jh7nnu",
    "outputId": "02096966-22a3-4b81-a7a2-cf4d57247daa"
   },
   "outputs": [
    {
     "data": {
      "image/png": "[encoded data removed]",
      "text/plain": [
       "<Figure size 1584x432 with 2 Axes>"
      ]
     },
     "metadata": {
      "needs_background": "light"
     },
     "output_type": "display_data"
    }
   ],
   "source": [
    "mosel_saved_at_ep =log_acc['ACC_Valdtion'].argmax()+1\n",
    "fig,ax=plt.subplots(1,2,figsize = (22,6))\n",
    "ax[0].plot(log_loss['Epochs'], log_loss['loss_Training'],label = \"Training\",color = 'blue')\n",
    "ax[0].plot(log_loss['Epochs'], log_loss['loss_Valdtion'],label = \"Valdtion\",color = 'red')\n",
    "ax[0].axvline(x=mosel_saved_at_ep,label = \"model saved at\" ,color = 'orange')\n",
    "ax[0].set_title(\"Loss per Epoch\") ,ax[0].legend() #,font ={'weight' : 'bold'}\n",
    "ax[0].set_xlabel(\"Epoch\") #,font ={'weight' : 'bold'}\n",
    "ax[0].set_ylabel(\"Loss\")#,font ={'weight' : 'bold'}\n",
    "\n",
    "ax[1].plot(log_acc['Epochs'], log_acc['ACC_Training'],label = \"Training\",color = 'blue')\n",
    "ax[1].plot(log_acc['Epochs'], log_acc['ACC_Valdtion'],label = \"Valdtion\",color = 'red')\n",
    "ax[1].axvline(x=mosel_saved_at_ep,label = \"model saved at\",color = 'orange')\n",
    "ax[1].set_title(\"Accuracy per Epoch\")#,font ={'weight' : 'bold'}\n",
    "#plt.ylim(.88,1) , \n",
    "ax[1].legend()\n",
    "ax[1].set_xlabel(\"Epoch\")#,font ={'weight' : 'bold'}\n",
    "ax[1].set_ylabel(\"Accuracy\")#,font ={'weight' : 'bold'}\n",
    "plt.show()\n"
   ]
  },
  {
   "cell_type": "code",
   "execution_count": 37,
   "metadata": {
    "id": "Px4386oU7uDw"
   },
   "outputs": [],
   "source": [
    "best_model = copy.deepcopy(model)\n",
    "\n",
    "state = torch.load(\"Best_model_on_valdtion.pt\")\n",
    "best_model.state_dict = state\n",
    "best_model  = best_model.to(device)\n",
    "optimizer.load_state_dict(state['optimizer'])\n"
   ]
  },
  {
   "cell_type": "code",
   "execution_count": 38,
   "metadata": {
    "colab": {
     "base_uri": "https://localhost:8080/",
     "height": 528
    },
    "id": "7stLjUGe7uTS",
    "outputId": "effe3800-c209-452a-99fb-81994033ea9d"
   },
   "outputs": [
    {
     "name": "stdout",
     "output_type": "stream",
     "text": [
      "Accuracy : 0.7389244915018112 ,Error:0.26107550849818895 \n"
     ]
    },
    {
     "data": {
      "image/png": "[encoded data removed]",
      "text/plain": [
       "<Figure size 1584x504 with 4 Axes>"
      ]
     },
     "metadata": {
      "needs_background": "light"
     },
     "output_type": "display_data"
    }
   ],
   "source": [
    " model_data_montor(loader_val , 'best_model' )"
   ]
  },
  {
   "cell_type": "code",
   "execution_count": 23,
   "metadata": {
    "id": "ixv1rqqhGeSp"
   },
   "outputs": [],
   "source": []
  }
 ],
 "metadata": {
  "accelerator": "GPU",
  "colab": {
   "collapsed_sections": [],
   "name": "CV_mobilenet_v2_10epoch.ipynb",
   "provenance": []
  },
  "kernelspec": {
   "display_name": "Python 3 (ipykernel)",
   "language": "python",
   "name": "python3"
  },
  "language_info": {
   "codemirror_mode": {
    "name": "ipython",
    "version": 3
   },
   "file_extension": ".py",
   "mimetype": "text/x-python",
   "name": "python",
   "nbconvert_exporter": "python",
   "pygments_lexer": "ipython3",
   "version": "3.9.7"
  },
  "latex_envs": {
   "LaTeX_envs_menu_present": true,
   "autoclose": true,
   "autocomplete": true,
   "bibliofile": "biblio.bib",
   "cite_by": "apalike",
   "current_citInitial": 1,
   "eqLabelWithNumbers": true,
   "eqNumInitial": 1,
   "hotkeys": {
    "equation": "Ctrl-E",
    "itemize": "Ctrl-I"
   },
   "labels_anchors": false,
   "latex_user_defs": false,
   "report_style_numbering": false,
   "user_envs_cfg": false
  },
  "toc": {
   "base_numbering": 1,
   "nav_menu": {},
   "number_sections": true,
   "sideBar": true,
   "skip_h1_title": false,
   "title_cell": "Table of Contents",
   "title_sidebar": "Contents",
   "toc_cell": false,
   "toc_position": {},
   "toc_section_display": true,
   "toc_window_display": false
  }
 },
 "nbformat": 4,
 "nbformat_minor": 1
}
